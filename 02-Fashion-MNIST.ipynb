{
 "cells": [
  {
   "cell_type": "markdown",
   "metadata": {
    "colab_type": "text",
    "id": "chVQL2YUfmGY"
   },
   "source": [
    "# **About Fashion-MNIST Dataset:**\n",
    "\n",
    "Fashion-MNIST is a dataset images—consisting of a training set of 60,000 examples and a test set of 10,000 examples. Each example is a 28x28 grayscale image, associated with a label from 10 classes.\n",
    "\n",
    "Labels:Each training and test example is assigned to one of the following labels:\n",
    "\n",
    "0. T-shirt/top\n",
    "1. Trouser\n",
    "2. Pullover\n",
    "3. Dress\n",
    "4. Coat\n",
    "5. Sandal\n",
    "6. Shirt\n",
    "7. Sneaker\n",
    "8. Bag\n",
    "9. Ankle boot"
   ]
  },
  {
   "cell_type": "code",
   "execution_count": 0,
   "metadata": {
    "colab": {},
    "colab_type": "code",
    "id": "a9jnwHmYTFoR"
   },
   "outputs": [],
   "source": [
    "#importing libraries\n",
    "import tensorflow as tf\n",
    "from tensorflow.keras.models import Sequential\n",
    "from tensorflow.keras.layers import Conv2D,MaxPooling2D,Dense,Dropout,BatchNormalization,Flatten\n",
    "from tensorflow.keras.datasets import fashion_mnist"
   ]
  },
  {
   "cell_type": "code",
   "execution_count": 0,
   "metadata": {
    "colab": {},
    "colab_type": "code",
    "id": "oriKcsC7T5pO"
   },
   "outputs": [],
   "source": [
    "(X_train,y_train),(X_test,y_test) = fashion_mnist.load_data()"
   ]
  },
  {
   "cell_type": "code",
   "execution_count": 3,
   "metadata": {
    "colab": {
     "base_uri": "https://localhost:8080/",
     "height": 34
    },
    "colab_type": "code",
    "id": "b6lvBxSKUFfF",
    "outputId": "f5819dc7-7139-4fad-e63f-657d41dd2f31"
   },
   "outputs": [
    {
     "data": {
      "text/plain": [
       "(60000, 28, 28)"
      ]
     },
     "execution_count": 3,
     "metadata": {
      "tags": []
     },
     "output_type": "execute_result"
    }
   ],
   "source": [
    "X_train.shape"
   ]
  },
  {
   "cell_type": "code",
   "execution_count": 4,
   "metadata": {
    "colab": {
     "base_uri": "https://localhost:8080/",
     "height": 34
    },
    "colab_type": "code",
    "id": "I55KfTkUUJw4",
    "outputId": "d806eb24-feeb-4ea6-ab91-53622b870161"
   },
   "outputs": [
    {
     "data": {
      "text/plain": [
       "(60000,)"
      ]
     },
     "execution_count": 4,
     "metadata": {
      "tags": []
     },
     "output_type": "execute_result"
    }
   ],
   "source": [
    "y_train.shape"
   ]
  },
  {
   "cell_type": "code",
   "execution_count": 5,
   "metadata": {
    "colab": {
     "base_uri": "https://localhost:8080/",
     "height": 34
    },
    "colab_type": "code",
    "id": "xnizMLdvXhGz",
    "outputId": "5cdcdf06-af8e-4db6-b99e-34b4d051a3d0"
   },
   "outputs": [
    {
     "data": {
      "text/plain": [
       "{0, 1, 2, 3, 4, 5, 6, 7, 8, 9}"
      ]
     },
     "execution_count": 5,
     "metadata": {
      "tags": []
     },
     "output_type": "execute_result"
    }
   ],
   "source": [
    "set(y_train)"
   ]
  },
  {
   "cell_type": "code",
   "execution_count": 6,
   "metadata": {
    "colab": {
     "base_uri": "https://localhost:8080/",
     "height": 34
    },
    "colab_type": "code",
    "id": "wtkK7f74UL-A",
    "outputId": "8682a050-5e0e-4495-c42f-537c1b966567"
   },
   "outputs": [
    {
     "data": {
      "text/plain": [
       "(10000, 28, 28)"
      ]
     },
     "execution_count": 6,
     "metadata": {
      "tags": []
     },
     "output_type": "execute_result"
    }
   ],
   "source": [
    "X_test.shape"
   ]
  },
  {
   "cell_type": "code",
   "execution_count": 7,
   "metadata": {
    "colab": {
     "base_uri": "https://localhost:8080/",
     "height": 34
    },
    "colab_type": "code",
    "id": "dKXQQ0gfUQ7o",
    "outputId": "93e61733-f430-401a-936e-7f1944165ed0"
   },
   "outputs": [
    {
     "data": {
      "text/plain": [
       "(10000,)"
      ]
     },
     "execution_count": 7,
     "metadata": {
      "tags": []
     },
     "output_type": "execute_result"
    }
   ],
   "source": [
    "y_test.shape"
   ]
  },
  {
   "cell_type": "code",
   "execution_count": 0,
   "metadata": {
    "colab": {},
    "colab_type": "code",
    "id": "UsgavvHLUTEX"
   },
   "outputs": [],
   "source": [
    "import cv2\n",
    "from google.colab.patches import cv2_imshow"
   ]
  },
  {
   "cell_type": "code",
   "execution_count": 9,
   "metadata": {
    "colab": {
     "base_uri": "https://localhost:8080/",
     "height": 117
    },
    "colab_type": "code",
    "id": "3G2jKyxYUV44",
    "outputId": "9293fb0c-2d97-4c0a-b3ea-346df00c24c6"
   },
   "outputs": [
    {
     "data": {
      "image/png": "[encoded data removed]",
      "text/plain": [
       "<PIL.Image.Image image mode=L size=100x100 at 0x7F5CF0FC6518>"
      ]
     },
     "metadata": {
      "tags": []
     },
     "output_type": "display_data"
    }
   ],
   "source": [
    "cv2_imshow(cv2.resize(X_train[0],(100,100)))"
   ]
  },
  {
   "cell_type": "code",
   "execution_count": 10,
   "metadata": {
    "colab": {
     "base_uri": "https://localhost:8080/",
     "height": 34
    },
    "colab_type": "code",
    "id": "2fqJHO8UUbQe",
    "outputId": "ad3edf03-7ffc-4c9e-9ae4-ec43f3e7e2c7"
   },
   "outputs": [
    {
     "name": "stderr",
     "output_type": "stream",
     "text": [
      "Using TensorFlow backend.\n"
     ]
    }
   ],
   "source": [
    "from keras.utils.np_utils import to_categorical"
   ]
  },
  {
   "cell_type": "code",
   "execution_count": 0,
   "metadata": {
    "colab": {},
    "colab_type": "code",
    "id": "7EbIO_rhVE8l"
   },
   "outputs": [],
   "source": [
    "#same as doing one-hot-encoding\n",
    "y_train = to_categorical(y_train,10)\n",
    "y_test = to_categorical(y_test,10)"
   ]
  },
  {
   "cell_type": "code",
   "execution_count": 0,
   "metadata": {
    "colab": {},
    "colab_type": "code",
    "id": "AeSkCgmJVPb1"
   },
   "outputs": [],
   "source": [
    "X_train = X_train/255\n",
    "X_test = X_test/255"
   ]
  },
  {
   "cell_type": "code",
   "execution_count": 0,
   "metadata": {
    "colab": {},
    "colab_type": "code",
    "id": "Ngb1uph4ZAFn"
   },
   "outputs": [],
   "source": [
    "import numpy as np"
   ]
  },
  {
   "cell_type": "code",
   "execution_count": 0,
   "metadata": {
    "colab": {},
    "colab_type": "code",
    "id": "HQ0Mq_cuZIos"
   },
   "outputs": [],
   "source": [
    "#conv2d expects a 4D tensor as input\n",
    "X_train = np.expand_dims(X_train,axis = 3)\n",
    "X_test = np.expand_dims(X_test,axis = 3)"
   ]
  },
  {
   "cell_type": "code",
   "execution_count": 15,
   "metadata": {
    "colab": {
     "base_uri": "https://localhost:8080/",
     "height": 34
    },
    "colab_type": "code",
    "id": "p-5lxGJfZeXI",
    "outputId": "8037d931-1578-4b05-d1d0-297375022527"
   },
   "outputs": [
    {
     "data": {
      "text/plain": [
       "(60000, 28, 28, 1)"
      ]
     },
     "execution_count": 15,
     "metadata": {
      "tags": []
     },
     "output_type": "execute_result"
    }
   ],
   "source": [
    "X_train.shape"
   ]
  },
  {
   "cell_type": "code",
   "execution_count": 0,
   "metadata": {
    "colab": {},
    "colab_type": "code",
    "id": "XaZFWp35VmWg"
   },
   "outputs": [],
   "source": [
    "#model initialization\n",
    "model = Sequential()\n",
    "#first convolution layer\n",
    "model.add(Conv2D(32,(3,3),activation='relu',padding = 'same',input_shape = (28,28,1)))\n",
    "model.add(MaxPooling2D((2,2)))\n",
    "#second convolution layer\n",
    "model.add(Conv2D(64,(3,3),activation='relu',padding = 'same'))\n",
    "model.add(MaxPooling2D((2,2)))\n",
    "#flattening\n",
    "model.add(Flatten())\n",
    "#First dense layer\n",
    "model.add(Dense(32,activation = 'relu'))\n",
    "model.add(BatchNormalization()) #to reduce variance\n",
    "model.add(Dropout(0.5)) #regularization\n",
    "#Second dense layer\n",
    "model.add(Dense(64,activation = 'relu'))\n",
    "model.add(BatchNormalization()) #to reduce variance\n",
    "model.add(Dropout(0.5)) #regularization\n",
    "#output layer\n",
    "model.add(Dense(10,activation = 'softmax'))"
   ]
  },
  {
   "cell_type": "code",
   "execution_count": 0,
   "metadata": {
    "colab": {},
    "colab_type": "code",
    "id": "TkVdGQcYXuvP"
   },
   "outputs": [],
   "source": [
    "model.compile(optimizer='adam',loss = 'categorical_crossentropy',metrics=['accuracy'])"
   ]
  },
  {
   "cell_type": "code",
   "execution_count": 18,
   "metadata": {
    "colab": {
     "base_uri": "https://localhost:8080/",
     "height": 720
    },
    "colab_type": "code",
    "id": "wmK9F4jdYcl2",
    "outputId": "e28b11ef-d114-47ab-8bc9-486ead20046a"
   },
   "outputs": [
    {
     "name": "stdout",
     "output_type": "stream",
     "text": [
      "Epoch 1/20\n",
      "200/200 [==============================] - 2s 9ms/step - loss: 1.0266 - accuracy: 0.6507 - val_loss: 1.1830 - val_accuracy: 0.8166\n",
      "Epoch 2/20\n",
      "200/200 [==============================] - 2s 8ms/step - loss: 0.5565 - accuracy: 0.8132 - val_loss: 0.4061 - val_accuracy: 0.8813\n",
      "Epoch 3/20\n",
      "200/200 [==============================] - 2s 8ms/step - loss: 0.4544 - accuracy: 0.8486 - val_loss: 0.3252 - val_accuracy: 0.8872\n",
      "Epoch 4/20\n",
      "200/200 [==============================] - 2s 8ms/step - loss: 0.3977 - accuracy: 0.8680 - val_loss: 0.3456 - val_accuracy: 0.8825\n",
      "Epoch 5/20\n",
      "200/200 [==============================] - 2s 8ms/step - loss: 0.3635 - accuracy: 0.8776 - val_loss: 0.3049 - val_accuracy: 0.8989\n",
      "Epoch 6/20\n",
      "200/200 [==============================] - 2s 8ms/step - loss: 0.3365 - accuracy: 0.8880 - val_loss: 0.2843 - val_accuracy: 0.9017\n",
      "Epoch 7/20\n",
      "200/200 [==============================] - 2s 8ms/step - loss: 0.3202 - accuracy: 0.8939 - val_loss: 0.2986 - val_accuracy: 0.8966\n",
      "Epoch 8/20\n",
      "200/200 [==============================] - 2s 8ms/step - loss: 0.3033 - accuracy: 0.9000 - val_loss: 0.2618 - val_accuracy: 0.9087\n",
      "Epoch 9/20\n",
      "200/200 [==============================] - 2s 8ms/step - loss: 0.2862 - accuracy: 0.9061 - val_loss: 0.2719 - val_accuracy: 0.9091\n",
      "Epoch 10/20\n",
      "200/200 [==============================] - 2s 8ms/step - loss: 0.2762 - accuracy: 0.9083 - val_loss: 0.2619 - val_accuracy: 0.9096\n",
      "Epoch 11/20\n",
      "200/200 [==============================] - 2s 8ms/step - loss: 0.2652 - accuracy: 0.9125 - val_loss: 0.3338 - val_accuracy: 0.8984\n",
      "Epoch 12/20\n",
      "200/200 [==============================] - 2s 8ms/step - loss: 0.2522 - accuracy: 0.9151 - val_loss: 0.2544 - val_accuracy: 0.9154\n",
      "Epoch 13/20\n",
      "200/200 [==============================] - 2s 8ms/step - loss: 0.2436 - accuracy: 0.9183 - val_loss: 0.2857 - val_accuracy: 0.9095\n",
      "Epoch 14/20\n",
      "200/200 [==============================] - 2s 8ms/step - loss: 0.2349 - accuracy: 0.9218 - val_loss: 0.3369 - val_accuracy: 0.8943\n",
      "Epoch 15/20\n",
      "200/200 [==============================] - 2s 8ms/step - loss: 0.2290 - accuracy: 0.9235 - val_loss: 0.2774 - val_accuracy: 0.9121\n",
      "Epoch 16/20\n",
      "200/200 [==============================] - 2s 8ms/step - loss: 0.2225 - accuracy: 0.9268 - val_loss: 0.2621 - val_accuracy: 0.9167\n",
      "Epoch 17/20\n",
      "200/200 [==============================] - 2s 8ms/step - loss: 0.2173 - accuracy: 0.9277 - val_loss: 0.2830 - val_accuracy: 0.9089\n",
      "Epoch 18/20\n",
      "200/200 [==============================] - 2s 8ms/step - loss: 0.2080 - accuracy: 0.9313 - val_loss: 0.2847 - val_accuracy: 0.9103\n",
      "Epoch 19/20\n",
      "200/200 [==============================] - 2s 8ms/step - loss: 0.2016 - accuracy: 0.9327 - val_loss: 0.2727 - val_accuracy: 0.9142\n",
      "Epoch 20/20\n",
      "200/200 [==============================] - 2s 8ms/step - loss: 0.1965 - accuracy: 0.9341 - val_loss: 0.2769 - val_accuracy: 0.9162\n"
     ]
    }
   ],
   "source": [
    "history = model.fit(X_train,y_train,epochs=20,batch_size=300,validation_data=(X_test,y_test))"
   ]
  },
  {
   "cell_type": "code",
   "execution_count": 19,
   "metadata": {
    "colab": {
     "base_uri": "https://localhost:8080/",
     "height": 34
    },
    "colab_type": "code",
    "id": "wyQiSBBaYl7Q",
    "outputId": "ef56818e-ba1b-47b5-c99e-c55c3ba0eab0"
   },
   "outputs": [
    {
     "name": "stdout",
     "output_type": "stream",
     "text": [
      "313/313 [==============================] - 1s 3ms/step - loss: 0.2763 - accuracy: 0.9162\n"
     ]
    }
   ],
   "source": [
    "_, test_accuracy = model.evaluate(X_test,y_test)"
   ]
  },
  {
   "cell_type": "code",
   "execution_count": 20,
   "metadata": {
    "colab": {
     "base_uri": "https://localhost:8080/",
     "height": 34
    },
    "colab_type": "code",
    "id": "807bojuqZ7g6",
    "outputId": "7bed38dc-192f-4ac2-cf02-b4113e66c8e7"
   },
   "outputs": [
    {
     "data": {
      "text/plain": [
       "0.9161999821662903"
      ]
     },
     "execution_count": 20,
     "metadata": {
      "tags": []
     },
     "output_type": "execute_result"
    }
   ],
   "source": [
    "test_accuracy"
   ]
  },
  {
   "cell_type": "code",
   "execution_count": 0,
   "metadata": {
    "colab": {},
    "colab_type": "code",
    "id": "fAQ6j0WTbF4g"
   },
   "outputs": [],
   "source": [
    "obj = history.history"
   ]
  },
  {
   "cell_type": "code",
   "execution_count": 0,
   "metadata": {
    "colab": {},
    "colab_type": "code",
    "id": "fqkEmu2wbS2k"
   },
   "outputs": [],
   "source": [
    "accuracy = obj['accuracy']\n",
    "val_accuracy = obj['val_accuracy']\n",
    "\n",
    "loss = obj['loss']\n",
    "val_loss = obj['val_loss']\n",
    "\n",
    "x_axis_vals = np.arange(len(accuracy))"
   ]
  },
  {
   "cell_type": "code",
   "execution_count": 24,
   "metadata": {
    "colab": {
     "base_uri": "https://localhost:8080/",
     "height": 444
    },
    "colab_type": "code",
    "id": "vrtnGN4BZ87G",
    "outputId": "556671ee-43fe-4e7a-8a0d-b225a140a911"
   },
   "outputs": [
    {
     "data": {
      "image/png": "[encoded data removed]",
      "text/plain": [
       "<Figure size 1008x504 with 2 Axes>"
      ]
     },
     "metadata": {
      "needs_background": "light",
      "tags": []
     },
     "output_type": "display_data"
    }
   ],
   "source": [
    "import matplotlib.pyplot as plt\n",
    "plt.figure(figsize = (14,7))\n",
    "\n",
    "plt.subplot(1,2,1)\n",
    "plt.plot(x_axis_vals, accuracy, label='Training Accuracy')\n",
    "plt.plot(x_axis_vals, val_accuracy, label='Validation Accuracy')\n",
    "plt.legend(loc='lower right')\n",
    "plt.title('Training and Validation Accuracy')\n",
    "\n",
    "\n",
    "plt.subplot(1,2,2)\n",
    "plt.plot(x_axis_vals, loss, label='Training loss')\n",
    "plt.plot(x_axis_vals, val_loss, label='Validation loss')\n",
    "plt.legend(loc='upper right')\n",
    "plt.title('Training and Validation Losses')\n",
    "\n",
    "plt.show()"
   ]
  },
  {
   "cell_type": "code",
   "execution_count": 0,
   "metadata": {
    "colab": {},
    "colab_type": "code",
    "id": "du-xgSiGcW6I"
   },
   "outputs": [],
   "source": []
  }
 ],
 "metadata": {
  "accelerator": "GPU",
  "colab": {
   "collapsed_sections": [],
   "name": "02-Fashion-MNIST.ipynb",
   "provenance": []
  },
  "kernelspec": {
   "display_name": "Python 3",
   "language": "python",
   "name": "python3"
  },
  "language_info": {
   "codemirror_mode": {
    "name": "ipython",
    "version": 3
   },
   "file_extension": ".py",
   "mimetype": "text/x-python",
   "name": "python",
   "nbconvert_exporter": "python",
   "pygments_lexer": "ipython3",
   "version": "3.7.6"
  }
 },
 "nbformat": 4,
 "nbformat_minor": 1
}
