{
 "cells": [
  {
   "cell_type": "markdown",
   "metadata": {},
   "source": [
    "## About Cifar10 Dataset:\n",
    "The CIFAR-10 dataset consists of 60000 32x32 colour images in 10 classes, with 6000 images per class. There are 50000 training images and 10000 test images.\n",
    "\n",
    "The dataset is divided into five training batches and one test batch, each with 10000 images. The test batch contains exactly 1000 randomly-selected images from each class. The training batches contain the remaining images in random order, but some training batches may contain more images from one class than another. Between them, the training batches contain exactly 5000 images from each class.\n",
    "\n",
    "Here are the classes in the dataset, as well as 10 random images from each:\n",
    "1. airplane\t\t\t\t\t\t\t\t\t\t\n",
    "2. automobile\t\t\t\t\t\t\t\t\t\t\n",
    "3. bird\t\t\t\t\t\t\t\t\t\t\n",
    "4. cat\t\t\t\t\t\t\t\t\t\t\n",
    "5. deer\t\t\t\t\t\t\t\t\t\t\n",
    "6. dog\t\t\t\t\t\t\t\t\t\t\n",
    "7. frog\t\t\t\t\t\t\t\t\t\t\n",
    "8. horse\t\t\t\t\t\t\t\t\t\t\n",
    "9. ship\t\t\t\t\t\t\t\t\t\t\n",
    "10. truck\t\t\t\t\t\t\t\t\t\t"
   ]
  },
  {
   "cell_type": "markdown",
   "metadata": {},
   "source": [
    "#### Importing Libraries"
   ]
  },
  {
   "cell_type": "code",
   "execution_count": 0,
   "metadata": {
    "colab": {},
    "colab_type": "code",
    "id": "eI17kyR8Ld1L"
   },
   "outputs": [],
   "source": [
    "import tensorflow as tf\n",
    "from tensorflow.keras.models import Sequential\n",
    "from tensorflow.keras.layers import Dense,Conv2D,MaxPooling2D,Dropout,Flatten,BatchNormalization\n",
    "from tensorflow.keras.preprocessing.image import ImageDataGenerator\n",
    "from tensorflow.keras.preprocessing import image\n",
    "from tensorflow.keras.utils import to_categorical\n",
    "leaky_relu= tf.keras.layers.LeakyReLU(alpha=0.3)"
   ]
  },
  {
   "cell_type": "code",
   "execution_count": 0,
   "metadata": {
    "colab": {},
    "colab_type": "code",
    "id": "PhlW7MUWMXQZ"
   },
   "outputs": [],
   "source": [
    "from tensorflow.keras.datasets import cifar10"
   ]
  },
  {
   "cell_type": "code",
   "execution_count": 0,
   "metadata": {
    "colab": {
     "base_uri": "https://localhost:8080/",
     "height": 52
    },
    "colab_type": "code",
    "id": "_1rVisAdQURq",
    "outputId": "20dbc9f6-26c0-4a30-fb88-ad263c313a94"
   },
   "outputs": [
    {
     "name": "stdout",
     "output_type": "stream",
     "text": [
      "Downloading data from https://www.cs.toronto.edu/~kriz/cifar-10-python.tar.gz\n",
      "170500096/170498071 [==============================] - 13s 0us/step\n"
     ]
    }
   ],
   "source": [
    "(X_train,y_train),(X_test,y_test) = cifar10.load_data()"
   ]
  },
  {
   "cell_type": "code",
   "execution_count": 0,
   "metadata": {
    "colab": {
     "base_uri": "https://localhost:8080/",
     "height": 34
    },
    "colab_type": "code",
    "id": "Mnxa__uBQYXJ",
    "outputId": "ad73cb9a-525a-47b7-92c3-2019958cbdf8"
   },
   "outputs": [
    {
     "data": {
      "text/plain": [
       "(50000, 32, 32, 3)"
      ]
     },
     "execution_count": 5,
     "metadata": {
      "tags": []
     },
     "output_type": "execute_result"
    }
   ],
   "source": [
    "X_train.shape"
   ]
  },
  {
   "cell_type": "code",
   "execution_count": 0,
   "metadata": {
    "colab": {},
    "colab_type": "code",
    "id": "SLeKvVxgSsz4"
   },
   "outputs": [],
   "source": [
    "X_train = X_train/255"
   ]
  },
  {
   "cell_type": "code",
   "execution_count": 0,
   "metadata": {
    "colab": {},
    "colab_type": "code",
    "id": "Mc1zA_bUSs20"
   },
   "outputs": [],
   "source": [
    "X_test = X_test/255"
   ]
  },
  {
   "cell_type": "code",
   "execution_count": 0,
   "metadata": {
    "colab": {},
    "colab_type": "code",
    "id": "e1kJ7J94nXE8"
   },
   "outputs": [],
   "source": [
    "y_train = to_categorical(y_train,10)\n",
    "y_test = to_categorical(y_test,10)"
   ]
  },
  {
   "cell_type": "code",
   "execution_count": 0,
   "metadata": {
    "colab": {},
    "colab_type": "code",
    "id": "tI4dxcsDQYZ4"
   },
   "outputs": [],
   "source": [
    "# Initialize the model\n",
    "model = Sequential()\n",
    "\n",
    "\"\"\"\n",
    "about Convo2D:\n",
    "32 = number of filters\n",
    "(3,3) = size of the kernel/filter\n",
    "padding = 'same' i.e, maintain the same size of the input\n",
    "input_shape = shape of the input image\n",
    "\n",
    "about MaxPooling2D\n",
    "pool_size = size of pooling matrix\n",
    "\"\"\"\n",
    "\n",
    "model.add(Conv2D(32,(3,3),padding = 'same',activation='relu',input_shape=(32,32,3)))\n",
    "model.add(MaxPooling2D(pool_size = (2,2),strides=(2,2)))\n",
    "\n",
    "model.add(Conv2D(128,(3,3),activation='relu'))\n",
    "model.add(MaxPooling2D(pool_size = (2,2),strides=(2,2)))\n",
    "\n",
    "# model.add(Conv2D(64,(3,3),padding = 'same',activation='relu'))\n",
    "# model.add(MaxPooling2D(pool_size = (2,2),strides=(2,2)))\n",
    "\n",
    "# model.add(Conv2D(64,(3,3),activation='relu'))\n",
    "# model.add(MaxPooling2D(pool_size = (2,2),strides=(2,2)))\n",
    "\n",
    "model.add(Flatten())\n",
    "model.add(Dense(256,activation = 'relu'))\n",
    "model.add(Dropout(0.5))\n",
    "model.add(Dense(512,activation = leaky_relu))\n",
    "model.add(Dropout(0.5))\n",
    "model.add(Dense(10,activation='softmax'))"
   ]
  },
  {
   "cell_type": "code",
   "execution_count": 0,
   "metadata": {
    "colab": {},
    "colab_type": "code",
    "id": "KHPh5BE-QYfT"
   },
   "outputs": [],
   "source": [
    "#compile the keras model\n",
    "model.compile(loss='categorical_crossentropy',optimizer='adam',metrics=['accuracy'])"
   ]
  },
  {
   "cell_type": "code",
   "execution_count": 0,
   "metadata": {
    "colab": {
     "base_uri": "https://localhost:8080/",
     "height": 368
    },
    "colab_type": "code",
    "id": "xjuvHYb2QYjr",
    "outputId": "fe8dbdbc-0021-4f33-c26c-5fdc077d6f41"
   },
   "outputs": [
    {
     "name": "stdout",
     "output_type": "stream",
     "text": [
      "Epoch 1/10\n",
      "250/250 [==============================] - 2s 9ms/step - loss: 1.6876 - accuracy: 0.3773 - val_loss: 1.3313 - val_accuracy: 0.5291\n",
      "Epoch 2/10\n",
      "250/250 [==============================] - 2s 9ms/step - loss: 1.2925 - accuracy: 0.5345 - val_loss: 1.0858 - val_accuracy: 0.6154\n",
      "Epoch 3/10\n",
      "250/250 [==============================] - 2s 9ms/step - loss: 1.1239 - accuracy: 0.6002 - val_loss: 0.9847 - val_accuracy: 0.6549\n",
      "Epoch 4/10\n",
      "250/250 [==============================] - 2s 9ms/step - loss: 1.0279 - accuracy: 0.6379 - val_loss: 0.9377 - val_accuracy: 0.6670\n",
      "Epoch 5/10\n",
      "250/250 [==============================] - 2s 9ms/step - loss: 0.9474 - accuracy: 0.6665 - val_loss: 0.9663 - val_accuracy: 0.6646\n",
      "Epoch 6/10\n",
      "250/250 [==============================] - 2s 9ms/step - loss: 0.8823 - accuracy: 0.6909 - val_loss: 0.8563 - val_accuracy: 0.7025\n",
      "Epoch 7/10\n",
      "250/250 [==============================] - 2s 9ms/step - loss: 0.8250 - accuracy: 0.7124 - val_loss: 0.8514 - val_accuracy: 0.7063\n",
      "Epoch 8/10\n",
      "250/250 [==============================] - 2s 8ms/step - loss: 0.7753 - accuracy: 0.7265 - val_loss: 0.8359 - val_accuracy: 0.7111\n",
      "Epoch 9/10\n",
      "250/250 [==============================] - 2s 9ms/step - loss: 0.7321 - accuracy: 0.7431 - val_loss: 0.8247 - val_accuracy: 0.7129\n",
      "Epoch 10/10\n",
      "250/250 [==============================] - 2s 9ms/step - loss: 0.6918 - accuracy: 0.7550 - val_loss: 0.8295 - val_accuracy: 0.7155\n"
     ]
    }
   ],
   "source": [
    "# fit the keras model on the dataset\n",
    "# epochs = training of an entire dataset\n",
    "history = model.fit(X_train,y_train,epochs= 10,batch_size=200,validation_data=(X_test,y_test))"
   ]
  },
  {
   "cell_type": "code",
   "execution_count": 0,
   "metadata": {
    "colab": {},
    "colab_type": "code",
    "id": "z4RuznzQQYiE"
   },
   "outputs": [],
   "source": [
    "# evaluate the keras model\n",
    "_,test_accuracy = model.evaluate(X_test,y_test,verbose=0)#verbose is used only to show the lines [==============================]"
   ]
  },
  {
   "cell_type": "code",
   "execution_count": 0,
   "metadata": {
    "colab": {
     "base_uri": "https://localhost:8080/",
     "height": 34
    },
    "colab_type": "code",
    "id": "8dF5-kTTQYdA",
    "outputId": "f7012d7b-d40a-4979-bb43-ac4c0a6b8da0"
   },
   "outputs": [
    {
     "data": {
      "text/plain": [
       "0.7461000084877014"
      ]
     },
     "execution_count": 14,
     "metadata": {
      "tags": []
     },
     "output_type": "execute_result"
    }
   ],
   "source": [
    "test_accuracy"
   ]
  }
 ],
 "metadata": {
  "accelerator": "GPU",
  "colab": {
   "collapsed_sections": [],
   "name": "01_CNN_cifar10.ipynb",
   "provenance": []
  },
  "kernelspec": {
   "display_name": "Python 3",
   "language": "python",
   "name": "python3"
  },
  "language_info": {
   "codemirror_mode": {
    "name": "ipython",
    "version": 3
   },
   "file_extension": ".py",
   "mimetype": "text/x-python",
   "name": "python",
   "nbconvert_exporter": "python",
   "pygments_lexer": "ipython3",
   "version": "3.7.6"
  }
 },
 "nbformat": 4,
 "nbformat_minor": 1
}
